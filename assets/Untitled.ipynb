{
 "cells": [
  {
   "cell_type": "code",
   "execution_count": 8,
   "id": "2cb61765-d45f-46f4-8102-a7b6002513d3",
   "metadata": {
    "tags": []
   },
   "outputs": [
    {
     "name": "stdout",
     "output_type": "stream",
     "text": [
      "{'ResponseMetadata': {'RequestId': '7VB0435ZNFDEEPHC', 'HostId': 'bsbdmyMDfr3M0bBI3jLReRyGbbNls6eLykCkYGHfvGSFcCexpLDFZMf0nRKAYG94o+X6gOf9S+I=', 'HTTPStatusCode': 200, 'HTTPHeaders': {'x-amz-id-2': 'bsbdmyMDfr3M0bBI3jLReRyGbbNls6eLykCkYGHfvGSFcCexpLDFZMf0nRKAYG94o+X6gOf9S+I=', 'x-amz-request-id': '7VB0435ZNFDEEPHC', 'date': 'Fri, 19 Jan 2024 12:06:06 GMT', 'last-modified': 'Fri, 19 Jan 2024 11:16:52 GMT', 'etag': '\"9d42da2f28b512ef35446e2bd958a377-16\"', 'x-amz-server-side-encryption': 'AES256', 'x-amz-version-id': 'hOdj57zm3elvIap9yBu.d6QacKZKhyl8', 'accept-ranges': 'bytes', 'content-type': 'binary/octet-stream', 'server': 'AmazonS3', 'content-length': '83781682'}, 'RetryAttempts': 0}, 'AcceptRanges': 'bytes', 'LastModified': datetime.datetime(2024, 1, 19, 11, 16, 52, tzinfo=tzutc()), 'ContentLength': 83781682, 'ETag': '\"9d42da2f28b512ef35446e2bd958a377-16\"', 'VersionId': 'hOdj57zm3elvIap9yBu.d6QacKZKhyl8', 'ContentType': 'binary/octet-stream', 'ServerSideEncryption': 'AES256', 'Metadata': {}, 'Body': <botocore.response.StreamingBody object at 0x7f0e2c25fc70>}\n"
     ]
    }
   ],
   "source": [
    "import os\n",
    "import boto3\n",
    "S3_BUCKET = 'kilimanjaro-beta-datalake'\n",
    "S3_ROOT_PATH = 'autosuite/datascience/ktbyazhar/'\n",
    "\n",
    "s3_client = boto3.client(\"s3\")\n",
    "\n",
    "data = s3_client.get_object(Bucket=S3_BUCKET, Key=f\"{S3_ROOT_PATH}DatafinitiElectronicsProductsPricingData.csv\")\n",
    "\n",
    "print(data)"
   ]
  },
  {
   "cell_type": "code",
   "execution_count": 3,
   "id": "cc2a495b-0039-4fe9-9f16-ee6ae746c724",
   "metadata": {
    "tags": []
   },
   "outputs": [
    {
     "name": "stdout",
     "output_type": "stream",
     "text": [
      "Defaulting to user installation because normal site-packages is not writeable\n",
      "Collecting python-dotenv\n",
      "  Downloading python_dotenv-1.0.0-py3-none-any.whl (19 kB)\n",
      "Installing collected packages: python-dotenv\n",
      "\u001b[33m  WARNING: The script dotenv is installed in '/home/azharkhantk/.local/bin' which is not on PATH.\n",
      "  Consider adding this directory to PATH or, if you prefer to suppress this warning, use --no-warn-script-location.\u001b[0m\u001b[33m\n",
      "\u001b[0mSuccessfully installed python-dotenv-1.0.0\n",
      "\n",
      "\u001b[1m[\u001b[0m\u001b[34;49mnotice\u001b[0m\u001b[1;39;49m]\u001b[0m\u001b[39;49m A new release of pip is available: \u001b[0m\u001b[31;49m23.2.1\u001b[0m\u001b[39;49m -> \u001b[0m\u001b[32;49m23.3.2\u001b[0m\n",
      "\u001b[1m[\u001b[0m\u001b[34;49mnotice\u001b[0m\u001b[1;39;49m]\u001b[0m\u001b[39;49m To update, run: \u001b[0m\u001b[32;49mpip install --upgrade pip\u001b[0m\n"
     ]
    }
   ],
   "source": [
    "!pip install python-dotenv"
   ]
  },
  {
   "cell_type": "code",
   "execution_count": 2,
   "id": "9b451fc3-8d39-49b5-853b-c8222f1c1b21",
   "metadata": {
    "tags": []
   },
   "outputs": [],
   "source": [
    "from dotenv import load_dotenv"
   ]
  },
  {
   "cell_type": "code",
   "execution_count": 3,
   "id": "4b5534ac-3adc-4776-b653-652354231815",
   "metadata": {
    "tags": []
   },
   "outputs": [
    {
     "data": {
      "text/plain": [
       "True"
      ]
     },
     "execution_count": 3,
     "metadata": {},
     "output_type": "execute_result"
    }
   ],
   "source": [
    "load_dotenv()"
   ]
  },
  {
   "cell_type": "code",
   "execution_count": 4,
   "id": "b80e0132-27ce-4f9f-9e13-d90b9e57e9ca",
   "metadata": {
    "tags": []
   },
   "outputs": [
    {
     "name": "stdout",
     "output_type": "stream",
     "text": [
      "environ({'PATH': '/usr/local/bin:/usr/local/sbin:/usr/local/bin:/usr/sbin:/usr/bin:/sbin:/bin', 'LANG': 'C.UTF-8', 'JUPYTERHUB_API_TOKEN': '12ca1ee4c5064f93bd518b782f8fe80f', 'JPY_API_TOKEN': '12ca1ee4c5064f93bd518b782f8fe80f', 'JUPYTERHUB_CLIENT_ID': 'jupyterhub-user-azharkhantk', 'JUPYTERHUB_HOST': '', 'JUPYTERHUB_OAUTH_CALLBACK_URL': '/user/azharkhantk/oauth_callback', 'JUPYTERHUB_OAUTH_SCOPES': '[\"access:servers!server=azharkhantk/\", \"access:servers!user=azharkhantk\"]', 'JUPYTERHUB_OAUTH_ACCESS_SCOPES': '[\"access:servers!server=azharkhantk/\", \"access:servers!user=azharkhantk\"]', 'JUPYTERHUB_OAUTH_CLIENT_ALLOWED_SCOPES': '[]', 'JUPYTERHUB_USER': 'azharkhantk', 'JUPYTERHUB_SERVER_NAME': '', 'JUPYTERHUB_API_URL': 'http://127.0.0.1:8081/hub/api', 'JUPYTERHUB_ACTIVITY_URL': 'http://127.0.0.1:8081/hub/api/users/azharkhantk/activity', 'JUPYTERHUB_BASE_URL': '/', 'JUPYTERHUB_SERVICE_PREFIX': '/user/azharkhantk/', 'JUPYTERHUB_SERVICE_URL': 'http://127.0.0.1:60609/user/azharkhantk/', 'JUPYTERHUB_DEFAULT_URL': '/lab', 'USER': 'azharkhantk', 'HOME': '/home/azharkhantk', 'SHELL': '/bin/bash', 'GIT_PYTHON_REFRESH': 'quiet', 'PYDEVD_USE_FRAME_EVAL': 'NO', 'PYTHONUNBUFFERED': '1', 'JPY_SESSION_NAME': '/home/azharkhantk/pyplay/assets/Untitled.ipynb', 'JPY_PARENT_PID': '92', 'TERM': 'xterm-color', 'CLICOLOR': '1', 'FORCE_COLOR': '1', 'CLICOLOR_FORCE': '1', 'PAGER': 'cat', 'GIT_PAGER': 'cat', 'MPLBACKEND': 'module://matplotlib_inline.backend_inline', 'TENANT': 'autosuite', 'TENANT_ID': '10', 'STAGE': 'beta', 'AWS_REGION': 'eu-west-1', 'AWS_DEFAULT_REGION': 'eu-west-1', 'AWS_ROLE_ARN': 'arn:aws:iam::794236216820:role/beta-autosuite-User', 'AWS_WEB_IDENTITY_TOKEN_FILE': '/var/run/secrets/eks.amazonaws.com/serviceaccount/token', 'AWS_STS_REGIONAL_ENDPOINTS': 'regional', 'DATA_LAKE': 'kilimanjaro-beta-datalake', 'DATA_LAKE_ROOT_PATH': 'autosuite/', 'DATA_LAKE_TYPE': 'Peak Legacy', 'DATA_LAKE_REGION': 'eu-west-1', 'DATA_WAREHOUSE_TYPE': 'amazon_redshift', 'MLFLOW_TRACKING_URI': 'https://autosuite.mlflow.beta.peak.ai', 'MLFLOW_TRACKING_TOKEN': '7b6ccc77-2e01-4f9d-82dc-f8945fbcd461', 'SAGEMAKER_ROLE': 'arn:aws:iam::794236216820:role/service-role/SageMaker-autosuite-ExecutionRole', 'SYSTEM_ROLE': 'arn:aws:iam::794236216820:role/beta-autosuite-System', 'USER_ROLE': 'arn:aws:iam::794236216820:role/beta-autosuite-User', 'API_KEY': '7b6ccc77-2e01-4f9d-82dc-f8945fbcd461', 'REDSHIFT_USERNAME': 'autosuite', 'REDSHIFT_PASSWORD': '1aBR1H2GWj3J', 'REDSHIFT_ROLE': 'arn:aws:iam::794236216820:role/RedshiftImport', 'REDSHIFT_IAM_ROLE': 'arn:aws:iam::794236216820:role/RedshiftImport', 'REDSHIFT_PORT': '5439', 'REDSHIFT_SCHEMA': 'publish', 'REDSHIFT_HOST': 'ais-redshift-beta.coruwqh6dvzk.eu-west-1.redshift.amazonaws.com', 'REDSHIFT_DATABASE': 'autosuite'})\n"
     ]
    }
   ],
   "source": [
    "from os import environ\n",
    "from pprint import pprint\n",
    "\n",
    "pprint(environ)"
   ]
  },
  {
   "cell_type": "code",
   "execution_count": null,
   "id": "af5bba6c-d1a7-46f3-8c38-8873bdb6e4d1",
   "metadata": {},
   "outputs": [],
   "source": []
  }
 ],
 "metadata": {
  "kernelspec": {
   "display_name": "Python 3 (ipykernel)",
   "language": "python",
   "name": "python3"
  },
  "language_info": {
   "codemirror_mode": {
    "name": "ipython",
    "version": 3
   },
   "file_extension": ".py",
   "mimetype": "text/x-python",
   "name": "python",
   "nbconvert_exporter": "python",
   "pygments_lexer": "ipython3",
   "version": "3.11.5"
  }
 },
 "nbformat": 4,
 "nbformat_minor": 5
}
