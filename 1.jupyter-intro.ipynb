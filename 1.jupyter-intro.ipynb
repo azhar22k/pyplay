{
 "cells": [
  {
   "cell_type": "markdown",
   "id": "bdd7245a-80ca-460f-b1b2-d78b107c3197",
   "metadata": {},
   "source": [
    "# Intro to Jupyter\n",
    "Slide Deck can be found [here](https://docs.google.com/presentation/d/1po7wmORmvPb3HWVfs3KO8xWJRQJav763aMBsHtz4t88/edit#slide=id.gf5342669ae_0_0)"
   ]
  },
  {
   "cell_type": "code",
   "execution_count": 1,
   "id": "20e63b51-1ff0-43dd-9d38-e7988b7bce06",
   "metadata": {
    "tags": []
   },
   "outputs": [],
   "source": [
    "def foo(bar):\n",
    "    print(f'Hello {bar}! Nice to meet you')"
   ]
  },
  {
   "cell_type": "code",
   "execution_count": 2,
   "id": "71afe583-a4aa-4fc1-8264-6949f7eb868a",
   "metadata": {
    "tags": []
   },
   "outputs": [
    {
     "name": "stdout",
     "output_type": "stream",
     "text": [
      "Hello ramdom! Nice to meet you\n"
     ]
    }
   ],
   "source": [
    "foo('ramdom')\n",
    "from boto3 import Session"
   ]
  },
  {
   "cell_type": "markdown",
   "id": "d9d7a6f1-500d-4514-b8e9-05c17701152e",
   "metadata": {},
   "source": [
    "# This is a heading"
   ]
  },
  {
   "cell_type": "markdown",
   "id": "c89c90ba-7ed2-490a-a707-b3518d2aa8a6",
   "metadata": {},
   "source": [
    "## This is sub heading\n",
    "- this should be a bullet"
   ]
  },
  {
   "cell_type": "code",
   "execution_count": 3,
   "id": "c4f16837-5dff-4a8b-a674-3d71558c83d2",
   "metadata": {
    "tags": []
   },
   "outputs": [
    {
     "name": "stdout",
     "output_type": "stream",
     "text": [
      "Defaulting to user installation because normal site-packages is not writeable\n",
      "Collecting boto3\n",
      "  Obtaining dependency information for boto3 from https://files.pythonhosted.org/packages/49/ae/1349402cb049379bb9787a1f3302c8ce0af2f588da3ea417575e4a3eac43/boto3-1.34.15-py3-none-any.whl.metadata\n",
      "  Using cached boto3-1.34.15-py3-none-any.whl.metadata (6.6 kB)\n",
      "Collecting botocore<1.35.0,>=1.34.15 (from boto3)\n",
      "  Obtaining dependency information for botocore<1.35.0,>=1.34.15 from https://files.pythonhosted.org/packages/e9/40/126106415e25e927363107b6879260853b4ef8ade2fafc0e451e44cc2c75/botocore-1.34.15-py3-none-any.whl.metadata\n",
      "  Using cached botocore-1.34.15-py3-none-any.whl.metadata (5.6 kB)\n",
      "Collecting jmespath<2.0.0,>=0.7.1 (from boto3)\n",
      "  Using cached jmespath-1.0.1-py3-none-any.whl (20 kB)\n",
      "Collecting s3transfer<0.11.0,>=0.10.0 (from boto3)\n",
      "  Obtaining dependency information for s3transfer<0.11.0,>=0.10.0 from https://files.pythonhosted.org/packages/12/bb/7e7912e18cd558e7880d9b58ffc57300b2c28ffba9882b3a54ba5ce3ebc4/s3transfer-0.10.0-py3-none-any.whl.metadata\n",
      "  Using cached s3transfer-0.10.0-py3-none-any.whl.metadata (1.7 kB)\n",
      "Requirement already satisfied: python-dateutil<3.0.0,>=2.1 in /usr/local/lib/python3.11/site-packages (from botocore<1.35.0,>=1.34.15->boto3) (2.8.2)\n",
      "Requirement already satisfied: urllib3<2.1,>=1.25.4 in /usr/local/lib/python3.11/site-packages (from botocore<1.35.0,>=1.34.15->boto3) (1.26.16)\n",
      "Requirement already satisfied: six>=1.5 in /usr/local/lib/python3.11/site-packages (from python-dateutil<3.0.0,>=2.1->botocore<1.35.0,>=1.34.15->boto3) (1.16.0)\n",
      "Using cached boto3-1.34.15-py3-none-any.whl (139 kB)\n",
      "Using cached botocore-1.34.15-py3-none-any.whl (11.9 MB)\n",
      "Using cached s3transfer-0.10.0-py3-none-any.whl (82 kB)\n",
      "Installing collected packages: jmespath, botocore, s3transfer, boto3\n",
      "Successfully installed boto3-1.34.15 botocore-1.34.15 jmespath-1.0.1 s3transfer-0.10.0\n",
      "\n",
      "\u001b[1m[\u001b[0m\u001b[34;49mnotice\u001b[0m\u001b[1;39;49m]\u001b[0m\u001b[39;49m A new release of pip is available: \u001b[0m\u001b[31;49m23.2.1\u001b[0m\u001b[39;49m -> \u001b[0m\u001b[32;49m23.3.2\u001b[0m\n",
      "\u001b[1m[\u001b[0m\u001b[34;49mnotice\u001b[0m\u001b[1;39;49m]\u001b[0m\u001b[39;49m To update, run: \u001b[0m\u001b[32;49mpip install --upgrade pip\u001b[0m\n"
     ]
    }
   ],
   "source": [
    "!pip3 install boto3"
   ]
  },
  {
   "cell_type": "code",
   "execution_count": 4,
   "id": "2a88da96-aab7-4abf-8d20-a038231f3de2",
   "metadata": {
    "tags": []
   },
   "outputs": [],
   "source": [
    "import boto3"
   ]
  },
  {
   "cell_type": "code",
   "execution_count": null,
   "id": "c450bfdf-792b-4617-9183-8d09c1a49dcd",
   "metadata": {},
   "outputs": [],
   "source": []
  }
 ],
 "metadata": {
  "kernelspec": {
   "display_name": "venv",
   "language": "python",
   "name": "venv"
  },
  "language_info": {
   "codemirror_mode": {
    "name": "ipython",
    "version": 3
   },
   "file_extension": ".py",
   "mimetype": "text/x-python",
   "name": "python",
   "nbconvert_exporter": "python",
   "pygments_lexer": "ipython3",
   "version": "3.11.5"
  }
 },
 "nbformat": 4,
 "nbformat_minor": 5
}
