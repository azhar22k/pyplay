{
 "cells": [
  {
   "cell_type": "markdown",
   "id": "591dfb7b-c18d-4990-8aa0-1d2be1009c98",
   "metadata": {},
   "source": [
    "# Intro to NumPy\n"
   ]
  },
  {
   "cell_type": "markdown",
   "id": "bcede598-08df-4687-864d-326244c02e2f",
   "metadata": {},
   "source": [
    "## Python Tuple and Lists"
   ]
  },
  {
   "cell_type": "markdown",
   "id": "38428425-c2a9-41f1-b8db-452700d050a6",
   "metadata": {},
   "source": [
    "- The key difference between the tuples and lists is that while the tuples are <b>immutable</b> objects the lists are <b>mutable</b>. This means that tuples cannot be changed while the lists can be modified.\n",
    "- Tuples are more memory efficient than the lists.\n",
    "- When it comes to the time efficiency, tuples have a slight advantage over the lists especially when we consider lookup value.\n",
    "- If you have data that shouldn’t change, you should choose tuple data type over lists."
   ]
  },
  {
   "cell_type": "code",
   "execution_count": 16,
   "id": "854bc262-3877-4749-af8e-f7cd6f6639c5",
   "metadata": {
    "tags": []
   },
   "outputs": [],
   "source": [
    "import time\n",
    "import sys, platform"
   ]
  },
  {
   "cell_type": "code",
   "execution_count": 17,
   "id": "03165021-2687-4d21-af1c-5b3ee1fe3caa",
   "metadata": {
    "tags": []
   },
   "outputs": [
    {
     "name": "stdout",
     "output_type": "stream",
     "text": [
      "104\n",
      "80\n"
     ]
    }
   ],
   "source": [
    "a_list = list()\n",
    "a_tuple = tuple()\n",
    "\n",
    "a_list = [1,2,3,4,5]\n",
    "a_tuple = (1,2,3,4,5)\n",
    "\n",
    "print(sys.getsizeof(a_list))\n",
    "print(sys.getsizeof(a_tuple))"
   ]
  },
  {
   "cell_type": "markdown",
   "id": "7f3d1aba-2a5c-4dd8-b7cd-f3e6be5e86cd",
   "metadata": {},
   "source": [
    "As you can see from the output of the above code snippet, the memory required for the identical list and tuple objects is different."
   ]
  },
  {
   "cell_type": "code",
   "execution_count": 3,
   "id": "36d68737-929a-46b1-b43f-6c67ffdf4872",
   "metadata": {
    "tags": []
   },
   "outputs": [
    {
     "name": "stdout",
     "output_type": "stream",
     "text": [
      "3.11.5\n",
      "Instantiation time for LIST: 0.1813497543334961\n",
      "Instantiation time for TUPLE: 0.19156503677368164\n",
      "Lookup time for LIST:  0.5050816535949707\n",
      "Lookup time for TUPLE:  0.42401790618896484\n"
     ]
    }
   ],
   "source": [
    "print(platform.python_version())\n",
    "\n",
    "start_time = time.time()\n",
    "b_list = list(range(10000000))\n",
    "end_time = time.time()\n",
    "print(\"Instantiation time for LIST:\", end_time - start_time)\n",
    "\n",
    "start_time = time.time()\n",
    "b_tuple = tuple(range(10000000))\n",
    "end_time = time.time()\n",
    "print(\"Instantiation time for TUPLE:\", end_time - start_time)\n",
    "\n",
    "start_time = time.time()\n",
    "for item in b_list:\n",
    "  aa = b_list[20000]\n",
    "end_time = time.time()\n",
    "print(\"Lookup time for LIST: \", end_time - start_time)\n",
    "\n",
    "start_time = time.time()\n",
    "for item in b_tuple:\n",
    "  aa = b_tuple[20000]\n",
    "end_time = time.time()\n",
    "print(\"Lookup time for TUPLE: \", end_time - start_time)"
   ]
  },
  {
   "cell_type": "code",
   "execution_count": 19,
   "id": "2b029928-8422-42f7-aeaf-9d86e6e9d4da",
   "metadata": {
    "tags": []
   },
   "outputs": [
    {
     "name": "stdout",
     "output_type": "stream",
     "text": [
      "[1, 'apple', 4.5]\n"
     ]
    }
   ],
   "source": [
    "a=[1,'apple', 4.5]\n",
    "print(a)"
   ]
  },
  {
   "cell_type": "markdown",
   "id": "952a44a1-baf4-4e2b-b76d-6b944405cf84",
   "metadata": {
    "tags": []
   },
   "source": [
    "When it comes to the time efficiency, again tuples have a slight advantage over the lists especially when we consider lookup value."
   ]
  },
  {
   "cell_type": "markdown",
   "id": "814e4dfc-b189-4780-afa6-3173f9edb66a",
   "metadata": {
    "tags": []
   },
   "source": [
    "# What is a Numpy array?\n",
    "[NumPy](https://numpy.org/doc/1.26/index.html) is the fundamental package for scientific computing in Python. Numpy arrays facilitate advanced mathematical and other types of operations on large numbers of data. Typically, such operations are executed more efficiently and with less code than is possible using Python’s built-in sequences. Numpy is not another programming language but a Python extension module. It provides fast and efficient operations on arrays of homogeneous data. "
   ]
  },
  {
   "cell_type": "markdown",
   "id": "f490eba1-952f-490e-a625-e64c3002a16b",
   "metadata": {
    "tags": []
   },
   "source": [
    "## Some important points about Numpy arrays:\n",
    "\n",
    "- We can create an N-dimensional array in Python using Numpy.array().\n",
    "- The array is by default Homogeneous, which means data inside an array must be of the same Datatype.\n",
    "- Element-wise operation is possible.\n",
    "- Numpy array has various functions, methods, and variables, to ease our task of matrix computation.\n",
    "- Elements of an array are stored contiguously in memory. For example, all rows of a two-dimensioned array must have the same number of columns. A three-dimensional array must have the same number of rows and columns on each card."
   ]
  },
  {
   "cell_type": "markdown",
   "id": "568ca5fd-b68a-44bf-af7a-e74d2b8a3de1",
   "metadata": {},
   "source": [
    "## Representation of Numpy array\n"
   ]
  },
  {
   "cell_type": "code",
   "execution_count": null,
   "id": "12bee693-43d2-4ff1-b575-8b790d971f95",
   "metadata": {
    "tags": []
   },
   "outputs": [],
   "source": [
    "!pip install numpy"
   ]
  },
  {
   "cell_type": "code",
   "execution_count": 21,
   "id": "2ba19b60-71b8-4ec6-b536-ae7eab79f4a7",
   "metadata": {
    "tags": []
   },
   "outputs": [],
   "source": [
    "import numpy as np"
   ]
  },
  {
   "cell_type": "markdown",
   "id": "ad8adf98-d959-40da-935f-c0b796b0e4d8",
   "metadata": {},
   "source": [
    "### Single Dimensional Numpy Array"
   ]
  },
  {
   "cell_type": "code",
   "execution_count": 22,
   "id": "5d489395-202a-409e-b3b8-bb763b4a83ee",
   "metadata": {
    "tags": []
   },
   "outputs": [
    {
     "name": "stdout",
     "output_type": "stream",
     "text": [
      "[1 2 3]\n"
     ]
    }
   ],
   "source": [
    "sd_arr = np.array([1, 2, 3])\n",
    "print(sd_arr)"
   ]
  },
  {
   "cell_type": "markdown",
   "id": "e2dce423-d614-4d74-82f7-128e03468e2c",
   "metadata": {},
   "source": [
    "### Multi-dimensional Numpy Array"
   ]
  },
  {
   "cell_type": "code",
   "execution_count": 23,
   "id": "647d4c0e-0271-4181-804f-48f4c2c70230",
   "metadata": {
    "tags": []
   },
   "outputs": [
    {
     "name": "stdout",
     "output_type": "stream",
     "text": [
      "[[1 2 3]\n",
      " [4 5 6]]\n"
     ]
    }
   ],
   "source": [
    "md_arr = np.array([(1, 2, 3), (4, 5, 6)])\n",
    "print(md_arr)"
   ]
  },
  {
   "cell_type": "markdown",
   "id": "58bdd07c-29fc-4072-948c-149f5a06b3dd",
   "metadata": {},
   "source": [
    "## List Memory Allocation\n",
    "![py-list](./assets/py-list.png)"
   ]
  },
  {
   "cell_type": "markdown",
   "id": "d4ec4cde-240c-4d36-a21b-b0c242897ca8",
   "metadata": {
    "tags": []
   },
   "source": [
    "## Numpy Memory Allocation\n",
    "![numpy-list](./assets/py-numpy.png)"
   ]
  },
  {
   "cell_type": "markdown",
   "id": "bebac6f9-2dd1-4d2a-a02f-d71fb88651a8",
   "metadata": {},
   "source": [
    "## Array creation functions"
   ]
  },
  {
   "cell_type": "markdown",
   "id": "67b974d4-040a-42e5-a457-88d2c343534d",
   "metadata": {},
   "source": [
    "[numpy.arange](https://numpy.org/doc/1.26/reference/generated/numpy.arange.html#numpy.arange) creates arrays with regularly incrementing values"
   ]
  },
  {
   "cell_type": "code",
   "execution_count": 24,
   "id": "fe279d5f-65fb-435d-8093-7e9d9209a23e",
   "metadata": {
    "tags": []
   },
   "outputs": [
    {
     "data": {
      "text/plain": [
       "array([0, 1, 2, 3, 4, 5, 6, 7, 8, 9])"
      ]
     },
     "execution_count": 24,
     "metadata": {},
     "output_type": "execute_result"
    }
   ],
   "source": [
    "np.arange(10)"
   ]
  },
  {
   "cell_type": "code",
   "execution_count": 25,
   "id": "55cf6d7a-36e2-49a2-9329-0293096e8dd0",
   "metadata": {
    "tags": []
   },
   "outputs": [
    {
     "data": {
      "text/plain": [
       "array([2. , 2.1, 2.2, 2.3, 2.4, 2.5, 2.6, 2.7, 2.8, 2.9])"
      ]
     },
     "execution_count": 25,
     "metadata": {},
     "output_type": "execute_result"
    }
   ],
   "source": [
    "np.arange(2, 3, 0.1)"
   ]
  },
  {
   "cell_type": "markdown",
   "id": "6deb6b07-8480-4d5c-9cf4-9f5881834913",
   "metadata": {},
   "source": [
    "[numpy.linspace](https://numpy.org/doc/1.26/reference/generated/numpy.linspace.html#numpy.linspace) will create arrays with a specified number of elements, and spaced equally between the specified beginning and end values"
   ]
  },
  {
   "cell_type": "code",
   "execution_count": 26,
   "id": "efb1e79a-4bf4-4578-af45-572dae1931e0",
   "metadata": {
    "tags": []
   },
   "outputs": [
    {
     "data": {
      "text/plain": [
       "array([1. , 1.6, 2.2, 2.8, 3.4, 4. ])"
      ]
     },
     "execution_count": 26,
     "metadata": {},
     "output_type": "execute_result"
    }
   ],
   "source": [
    "np.linspace(1., 4., 6)"
   ]
  },
  {
   "cell_type": "markdown",
   "id": "a6c100d4-34ae-47ea-b8f1-e6b5ad82eead",
   "metadata": {
    "tags": []
   },
   "source": [
    "[np.eye(n, m)](https://numpy.org/doc/1.26/reference/generated/numpy.eye.html#numpy.eye) defines a 2D identity matrix"
   ]
  },
  {
   "cell_type": "code",
   "execution_count": 27,
   "id": "3f086f98-8fc5-471e-86a0-fc5e02b3d2e4",
   "metadata": {
    "tags": []
   },
   "outputs": [
    {
     "data": {
      "text/plain": [
       "array([[1., 0., 0.],\n",
       "       [0., 1., 0.],\n",
       "       [0., 0., 1.]])"
      ]
     },
     "execution_count": 27,
     "metadata": {},
     "output_type": "execute_result"
    }
   ],
   "source": [
    "np.eye(3)"
   ]
  },
  {
   "cell_type": "code",
   "execution_count": 28,
   "id": "da15ffc0-e7e9-4792-9a5c-c013fb031b77",
   "metadata": {
    "tags": []
   },
   "outputs": [
    {
     "data": {
      "text/plain": [
       "array([[1., 0., 0., 0., 0.],\n",
       "       [0., 1., 0., 0., 0.],\n",
       "       [0., 0., 1., 0., 0.]])"
      ]
     },
     "execution_count": 28,
     "metadata": {},
     "output_type": "execute_result"
    }
   ],
   "source": [
    "np.eye(3, 5)"
   ]
  },
  {
   "cell_type": "markdown",
   "id": "86c65ef6-b3e2-4655-960f-bf86afe67a83",
   "metadata": {},
   "source": [
    "[numpy.diag](https://numpy.org/doc/1.26/reference/generated/numpy.diag.html#numpy.diag) can define either a square 2D array with given values along the diagonal"
   ]
  },
  {
   "cell_type": "code",
   "execution_count": 29,
   "id": "cf098fe0-2311-4ff4-bd1b-8d3d2e17b3d2",
   "metadata": {
    "tags": []
   },
   "outputs": [
    {
     "data": {
      "text/plain": [
       "array([[1, 0, 0],\n",
       "       [0, 2, 0],\n",
       "       [0, 0, 3]])"
      ]
     },
     "execution_count": 29,
     "metadata": {},
     "output_type": "execute_result"
    }
   ],
   "source": [
    "np.diag([1, 2, 3])"
   ]
  },
  {
   "cell_type": "markdown",
   "id": "da7617da-7c31-43c5-82eb-ba932d4e93b1",
   "metadata": {},
   "source": [
    "Similary there are np.ones np.zero etc"
   ]
  },
  {
   "cell_type": "code",
   "execution_count": null,
   "id": "72f349f3-01fd-461f-b312-e6ea8e903f3e",
   "metadata": {},
   "outputs": [],
   "source": []
  }
 ],
 "metadata": {
  "kernelspec": {
   "display_name": "venv",
   "language": "python",
   "name": "venv"
  },
  "language_info": {
   "codemirror_mode": {
    "name": "ipython",
    "version": 3
   },
   "file_extension": ".py",
   "mimetype": "text/x-python",
   "name": "python",
   "nbconvert_exporter": "python",
   "pygments_lexer": "ipython3",
   "version": "3.11.5"
  }
 },
 "nbformat": 4,
 "nbformat_minor": 5
}
