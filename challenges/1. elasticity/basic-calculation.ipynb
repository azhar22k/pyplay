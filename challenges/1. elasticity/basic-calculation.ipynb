{
 "cells": [
  {
   "cell_type": "markdown",
   "metadata": {},
   "source": [
    "# Elasticity Calculation"
   ]
  },
  {
   "cell_type": "markdown",
   "metadata": {},
   "source": [
    "Our formula for elasticity:\n",
    "\n",
    "$$\n",
    "elasticity =\\frac{\\%Δ Quantity}{\\%Δ Price}\n",
    "$$"
   ]
  },
  {
   "cell_type": "code",
   "execution_count": 1,
   "metadata": {},
   "outputs": [],
   "source": [
    "import pandas as pd"
   ]
  },
  {
   "cell_type": "code",
   "execution_count": 9,
   "metadata": {},
   "outputs": [
    {
     "name": "stdout",
     "output_type": "stream",
     "text": [
      "   price        demand\n",
      "0    5.0  13336.056280\n",
      "1    5.5   4507.989194\n",
      "2    6.0   4554.579849\n",
      "3    6.5   5882.149164\n",
      "4    7.0   4131.956717\n"
     ]
    }
   ],
   "source": [
    "data_set = pd.read_csv('elasticity_challenge_1.csv.gz')\n",
    "print(data_set.head())"
   ]
  },
  {
   "cell_type": "code",
   "execution_count": 10,
   "metadata": {},
   "outputs": [
    {
     "name": "stdout",
     "output_type": "stream",
     "text": [
      "   price        demand  %_change_in_demand  %_change_in_price\n",
      "0    5.0  13336.056280                 NaN                NaN\n",
      "1    5.5   4507.989194           -0.661970           0.100000\n",
      "2    6.0   4554.579849            0.010335           0.090909\n",
      "3    6.5   5882.149164            0.291480           0.083333\n",
      "4    7.0   4131.956717           -0.297543           0.076923\n"
     ]
    }
   ],
   "source": [
    "data_set[\"%_change_in_demand\"] = data_set[\"demand\"].pct_change()\n",
    "data_set[\"%_change_in_price\"] = data_set[\"price\"].pct_change()\n",
    "print(data_set.head())"
   ]
  },
  {
   "cell_type": "code",
   "execution_count": 15,
   "metadata": {},
   "outputs": [
    {
     "name": "stdout",
     "output_type": "stream",
     "text": [
      "<bound method NDFrame.head of     price        demand  %_change_in_demand  %_change_in_price  elasticity\n",
      "0     5.0  13336.056280                 NaN                NaN         NaN\n",
      "1     5.5   4507.989194           -0.661970           0.100000   -6.619698\n",
      "2     6.0   4554.579849            0.010335           0.090909    0.113686\n",
      "3     6.5   5882.149164            0.291480           0.083333    3.497761\n",
      "4     7.0   4131.956717           -0.297543           0.076923   -3.868059\n",
      "..    ...           ...                 ...                ...         ...\n",
      "85   47.5    293.849446           -0.421492           0.010638  -39.620252\n",
      "86   48.0    101.286966           -0.655310           0.010526  -62.254450\n",
      "87   48.5    286.346134            1.827078           0.010417  175.399471\n",
      "88   49.0    212.216823           -0.258880           0.010309  -25.111368\n",
      "89   49.5    498.522813            1.349120           0.010204  132.213773\n",
      "\n",
      "[90 rows x 5 columns]>\n",
      "<class 'pandas.core.frame.DataFrame'>\n",
      "RangeIndex: 90 entries, 0 to 89\n",
      "Data columns (total 5 columns):\n",
      " #   Column              Non-Null Count  Dtype  \n",
      "---  ------              --------------  -----  \n",
      " 0   price               90 non-null     float64\n",
      " 1   demand              90 non-null     float64\n",
      " 2   %_change_in_demand  89 non-null     float64\n",
      " 3   %_change_in_price   89 non-null     float64\n",
      " 4   elasticity          89 non-null     float64\n",
      "dtypes: float64(5)\n",
      "memory usage: 3.6 KB\n",
      "None\n"
     ]
    }
   ],
   "source": [
    "data_set[\"elasticity\"] = data_set[\"%_change_in_demand\"] / data_set[\"%_change_in_price\"]\n",
    "print(data_set.head)\n",
    "print(data_set.info())"
   ]
  },
  {
   "cell_type": "markdown",
   "metadata": {},
   "source": [
    "Issues\n",
    "- %_chnage_* is `NaN` sometimes resulting in `NaN` elasticity \n",
    "- for `non-null` values elasticity is sometimes positive"
   ]
  },
  {
   "cell_type": "markdown",
   "metadata": {},
   "source": []
  }
 ],
 "metadata": {
  "kernelspec": {
   "display_name": "venv",
   "language": "python",
   "name": "python3"
  },
  "language_info": {
   "codemirror_mode": {
    "name": "ipython",
    "version": 3
   },
   "file_extension": ".py",
   "mimetype": "text/x-python",
   "name": "python",
   "nbconvert_exporter": "python",
   "pygments_lexer": "ipython3",
   "version": "3.11.4"
  }
 },
 "nbformat": 4,
 "nbformat_minor": 2
}
