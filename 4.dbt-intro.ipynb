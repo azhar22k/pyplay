{
 "cells": [
  {
   "cell_type": "markdown",
   "id": "ac90c3fe-8406-4582-a8c5-92afb72f1b50",
   "metadata": {},
   "source": [
    "# Data Build Tool aka Dbt Intro"
   ]
  },
  {
   "cell_type": "markdown",
   "id": "0c1e4ada-a901-4c93-9b44-d6c2072c4cb6",
   "metadata": {},
   "source": [
    "![dbt-intro](./assets/dbt-intro.png)"
   ]
  },
  {
   "cell_type": "markdown",
   "id": "5b4b9868-40ef-4f04-87c9-8f68404675fd",
   "metadata": {},
   "source": [
    "## What is Dbt?\n",
    "![what is dbt](./assets/dbt-what.png)"
   ]
  },
  {
   "cell_type": "markdown",
   "id": "6194c726-4035-4ca4-b0cc-8b631fcb0196",
   "metadata": {},
   "source": [
    "## Why Dbt?\n",
    "![why dbt](./assets/dbt-why.png)"
   ]
  },
  {
   "cell_type": "markdown",
   "id": "dc7a8065-94e0-4170-9e55-3fd89d83f5ab",
   "metadata": {},
   "source": [
    "## What is ETL?\n",
    "![etl](./assets/ETL.png)"
   ]
  },
  {
   "cell_type": "markdown",
   "id": "aece362f-7401-4d41-873d-342985f61405",
   "metadata": {},
   "source": [
    "## What is ELT?\n",
    "![ELT](./assets/ELT.png)"
   ]
  },
  {
   "cell_type": "markdown",
   "id": "ec92fa31-08f7-49b3-a0cc-75958e7b57f9",
   "metadata": {},
   "source": [
    "### Advantage\n",
    "![ELT - advantage](./assets/dbt-ELT.png)"
   ]
  },
  {
   "cell_type": "markdown",
   "id": "d75f8de0-a9cb-4f1e-acf4-acbf0a2211ba",
   "metadata": {},
   "source": [
    "## Hands On time\n",
    "![dbt handson](./assets/dbt-handson.png)"
   ]
  },
  {
   "cell_type": "markdown",
   "id": "5b188340-8c17-478d-82ce-880d0f21fb33",
   "metadata": {},
   "source": [
    "### VS Code Extension \n",
    "\n",
    "Optionally install\n",
    "\n",
    "`innoverio.vscode-dbt-power-user`\n",
    "\n",
    "https://marketplace.visualstudio.com/items?itemName=innoverio.vscode-dbt-power-user"
   ]
  },
  {
   "cell_type": "markdown",
   "id": "a2d3639e-e326-49f4-80e4-f96adf47f568",
   "metadata": {
    "tags": []
   },
   "source": [
    "### Installation \n",
    "\n",
    "`pip install dbt dbt-redshift dbt-snowflake`"
   ]
  },
  {
   "cell_type": "markdown",
   "id": "d568c341-57a9-4e47-83c3-7f5bb8af5fb8",
   "metadata": {
    "tags": []
   },
   "source": [
    "### Playtime\n",
    "\n",
    "`mkdir dbt-dance`\n",
    "\n",
    "`cd dbt-dance`\n",
    "\n",
    "`dbt init`\n",
    "\n",
    "`cd dbt_dance`\n",
    "\n",
    "`dbt debug`"
   ]
  },
  {
   "cell_type": "markdown",
   "id": "739d5dff-9838-452a-a2d1-ae22f9c8feea",
   "metadata": {},
   "source": [
    "### View vs Table\n",
    "![view vs table](./assets/dbt-view-vs-table.png)"
   ]
  },
  {
   "cell_type": "markdown",
   "id": "664489a8-3dfd-4552-8c3f-dc921ea5cc70",
   "metadata": {},
   "source": [
    "### Dbt Tests\n",
    "![dbt-tests](./assets/dbt-tests.png)"
   ]
  },
  {
   "cell_type": "markdown",
   "id": "bb3056ba-3d59-4f0f-a7f6-0c98d32d8896",
   "metadata": {},
   "source": [
    "#### Singular Tests\n",
    "![Dbt Singular Tests](./assets/dbt-singular-test.png)"
   ]
  },
  {
   "cell_type": "markdown",
   "id": "75bd6ff7-04c4-4596-bb39-741fe7f5e3b1",
   "metadata": {
    "tags": []
   },
   "source": [
    "#### Generic Tests\n",
    "![Dbt Generic Tests](./assets/dbt-generic-tests.png)\n",
    "\n",
    "##### Types\n",
    "![Dbt Generic Test Type](./assets/dbt-generic-tests-type.png)\n"
   ]
  },
  {
   "cell_type": "markdown",
   "id": "b6cad211-8ef2-4c36-8902-9c5a23b475f2",
   "metadata": {},
   "source": [
    "## Appendix\n",
    "- https://www.youtube.com/@SleekData"
   ]
  },
  {
   "cell_type": "code",
   "execution_count": null,
   "id": "0c45459d-47ea-4829-a8ad-5c6232bf1f1d",
   "metadata": {},
   "outputs": [],
   "source": []
  }
 ],
 "metadata": {
  "kernelspec": {
   "display_name": "venv",
   "language": "python",
   "name": "venv"
  },
  "language_info": {
   "codemirror_mode": {
    "name": "ipython",
    "version": 3
   },
   "file_extension": ".py",
   "mimetype": "text/x-python",
   "name": "python",
   "nbconvert_exporter": "python",
   "pygments_lexer": "ipython3",
   "version": "3.11.5"
  },
  "toc-autonumbering": false,
  "toc-showcode": true,
  "toc-showmarkdowntxt": false
 },
 "nbformat": 4,
 "nbformat_minor": 5
}
