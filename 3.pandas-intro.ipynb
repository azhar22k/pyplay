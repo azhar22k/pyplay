{
 "cells": [
  {
   "cell_type": "markdown",
   "id": "6166e10b-f284-4e5e-989b-9eda31083866",
   "metadata": {},
   "source": [
    "# Intro to Pandas\n"
   ]
  },
  {
   "cell_type": "markdown",
   "id": "41a76b3d-d968-46b8-9226-5043cf325d0e",
   "metadata": {},
   "source": [
    "[Pandas](https://pandas.pydata.org/docs/getting_started/index.html) DataFrame is two-dimensional size-mutable, potentially heterogeneous tabular data structure with labeled axes (rows and columns). A Data frame is a two-dimensional data structure, i.e., data is aligned in a tabular fashion in rows and columns. Pandas DataFrame consists of three principal components, the data, rows, and columns."
   ]
  },
  {
   "cell_type": "markdown",
   "id": "4e8e6ddb-ed5c-4ae4-ac59-b13e7da057cb",
   "metadata": {
    "tags": []
   },
   "source": [
    "![pandas dataframe](./assets/py-pandas.png)"
   ]
  },
  {
   "cell_type": "markdown",
   "id": "b612365b-ea5f-46c8-bb2c-66bf604b959e",
   "metadata": {},
   "source": [
    "## Installation"
   ]
  },
  {
   "cell_type": "code",
   "execution_count": null,
   "id": "178c4c07-4111-4753-88db-d58ec6789956",
   "metadata": {
    "tags": []
   },
   "outputs": [],
   "source": [
    "!pip install pandas"
   ]
  },
  {
   "cell_type": "markdown",
   "id": "12527199-d4d5-463c-ba88-921ad9c95006",
   "metadata": {
    "tags": []
   },
   "source": [
    "### Setting UP AWS access"
   ]
  },
  {
   "cell_type": "code",
   "execution_count": null,
   "id": "9ea95370-4114-4732-a8d1-3f7def5aa423",
   "metadata": {
    "tags": []
   },
   "outputs": [],
   "source": [
    "!pip install python-dotenv"
   ]
  },
  {
   "cell_type": "code",
   "execution_count": 3,
   "id": "5fdf4d71-ca67-4aca-98b8-80055ca91f0a",
   "metadata": {
    "tags": []
   },
   "outputs": [
    {
     "name": "stdout",
     "output_type": "stream",
     "text": [
      "The dotenv extension is already loaded. To reload it, use:\n",
      "  %reload_ext dotenv\n",
      "PATH\n",
      "LANG\n",
      "JUPYTERHUB_API_TOKEN\n",
      "JPY_API_TOKEN\n",
      "JUPYTERHUB_CLIENT_ID\n",
      "JUPYTERHUB_HOST\n",
      "JUPYTERHUB_OAUTH_CALLBACK_URL\n",
      "JUPYTERHUB_OAUTH_SCOPES\n",
      "JUPYTERHUB_OAUTH_ACCESS_SCOPES\n",
      "JUPYTERHUB_OAUTH_CLIENT_ALLOWED_SCOPES\n",
      "JUPYTERHUB_USER\n",
      "JUPYTERHUB_SERVER_NAME\n",
      "JUPYTERHUB_API_URL\n",
      "JUPYTERHUB_ACTIVITY_URL\n",
      "JUPYTERHUB_BASE_URL\n",
      "JUPYTERHUB_SERVICE_PREFIX\n",
      "JUPYTERHUB_SERVICE_URL\n",
      "JUPYTERHUB_DEFAULT_URL\n",
      "USER\n",
      "HOME\n",
      "SHELL\n",
      "GIT_PYTHON_REFRESH\n",
      "PYDEVD_USE_FRAME_EVAL\n",
      "PYTHONUNBUFFERED\n",
      "JPY_SESSION_NAME\n",
      "JPY_PARENT_PID\n",
      "TERM\n",
      "CLICOLOR\n",
      "FORCE_COLOR\n",
      "CLICOLOR_FORCE\n",
      "PAGER\n",
      "GIT_PAGER\n",
      "MPLBACKEND\n",
      "TENANT\n",
      "TENANT_ID\n",
      "STAGE\n",
      "AWS_REGION\n",
      "AWS_DEFAULT_REGION\n",
      "AWS_ROLE_ARN\n",
      "AWS_WEB_IDENTITY_TOKEN_FILE\n",
      "AWS_STS_REGIONAL_ENDPOINTS\n",
      "DATA_LAKE\n",
      "DATA_LAKE_ROOT_PATH\n",
      "DATA_LAKE_TYPE\n",
      "DATA_LAKE_REGION\n",
      "DATA_WAREHOUSE_TYPE\n",
      "MLFLOW_TRACKING_URI\n",
      "MLFLOW_TRACKING_TOKEN\n",
      "SAGEMAKER_ROLE\n",
      "SYSTEM_ROLE\n",
      "USER_ROLE\n",
      "API_KEY\n",
      "REDSHIFT_USERNAME\n",
      "REDSHIFT_PASSWORD\n",
      "REDSHIFT_ROLE\n",
      "REDSHIFT_IAM_ROLE\n",
      "REDSHIFT_PORT\n",
      "REDSHIFT_SCHEMA\n",
      "REDSHIFT_HOST\n",
      "REDSHIFT_DATABASE\n"
     ]
    }
   ],
   "source": [
    "%load_ext dotenv\n",
    "%dotenv\n",
    "for env in os.environ:\n",
    "    print(env)"
   ]
  },
  {
   "cell_type": "markdown",
   "id": "acf97d59-c8fd-4ec9-90a5-58d55ea3afd2",
   "metadata": {
    "tags": []
   },
   "source": [
    "## Major Features for Dataframe\n",
    "- Almost all functionalities for `R`\n",
    "- Drop in functions for major SQL (and more) functionalities\n",
    "- Use Excel? You won't miss it (majorly 😁)\n"
   ]
  },
  {
   "cell_type": "markdown",
   "id": "56425e6c-35d2-4351-b948-2cbbec7a17aa",
   "metadata": {},
   "source": [
    "<b> Let's Play with actual data<b>.\n",
    "    \n",
    "We are going to use [Electronic Products and Pricing Data summary](https://data.world/datafiniti/electronic-products-and-pricing-data/workspace/project-summary)"
   ]
  },
  {
   "cell_type": "code",
   "execution_count": 2,
   "id": "68e8a6ee-0b13-46fc-8b62-7497024b1b34",
   "metadata": {
    "tags": []
   },
   "outputs": [],
   "source": [
    "import os\n",
    "import boto3\n",
    "import pandas as pd"
   ]
  },
  {
   "cell_type": "markdown",
   "id": "ccb12414-bc60-4f68-8f1c-918368c72877",
   "metadata": {
    "tags": []
   },
   "source": [
    "### Read from S3"
   ]
  },
  {
   "cell_type": "code",
   "execution_count": 4,
   "id": "64a270ef-8410-41ee-857b-720bd4144b9b",
   "metadata": {
    "tags": []
   },
   "outputs": [],
   "source": [
    "S3_BUCKET = os.environ.get(\"DATA_LAKE\")\n",
    "S3_ROOT_PATH = os.environ.get(\"DATA_LAKE_ROOT_PATH\") + \"datascience/ktbyazhar/\"\n",
    "\n",
    "s3_client = boto3.client(\"s3\")"
   ]
  },
  {
   "cell_type": "code",
   "execution_count": 5,
   "id": "40c2705b-bf26-4837-b90a-414e0671a533",
   "metadata": {
    "tags": []
   },
   "outputs": [],
   "source": [
    "os.environ[\"AWS_REGION\"] = \"eu-west-1\"\n",
    "os.environ[\"AWS_DEFAULT_REGION\"] =  \"eu-west-1\"\n",
    "\n",
    "data = s3_client.get_object(Bucket=S3_BUCKET, Key=f\"{S3_ROOT_PATH}DatafinitiElectronicsProductsPricingData.csv\")"
   ]
  },
  {
   "cell_type": "code",
   "execution_count": null,
   "id": "ec35462b-0cab-4779-90e7-08a1a2398952",
   "metadata": {},
   "outputs": [],
   "source": []
  }
 ],
 "metadata": {
  "kernelspec": {
   "display_name": "venv",
   "language": "python",
   "name": "venv"
  },
  "language_info": {
   "codemirror_mode": {
    "name": "ipython",
    "version": 3
   },
   "file_extension": ".py",
   "mimetype": "text/x-python",
   "name": "python",
   "nbconvert_exporter": "python",
   "pygments_lexer": "ipython3",
   "version": "3.11.5"
  }
 },
 "nbformat": 4,
 "nbformat_minor": 5
}
